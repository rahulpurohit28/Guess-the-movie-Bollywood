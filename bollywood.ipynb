{
 "cells": [
  {
   "cell_type": "code",
   "execution_count": 1,
   "metadata": {},
   "outputs": [],
   "source": [
    "import pandas as pd\n",
    "import numpy as np \n"
   ]
  },
  {
   "cell_type": "code",
   "execution_count": 2,
   "metadata": {},
   "outputs": [],
   "source": [
    "# function that reads data and picks a movie name randomly- \n",
    "def starter_func():\n",
    "    movie_file=pd.read_csv('BollywoodMovieDetail.csv')\n",
    "    movie_file.drop(['imdbId','hitFlop','sequel'],axis=1,inplace=True)\n",
    "    x= np.random.randint(0,movie_file.shape[0])\n",
    "    selected_movie=movie_file.loc[x,'title'].upper()\n",
    "    hints=movie_file.loc[x,['releaseYear','genre','writers','directors','actors']]\n",
    "    return selected_movie,hints\n"
   ]
  },
  {
   "cell_type": "code",
   "execution_count": 3,
   "metadata": {},
   "outputs": [],
   "source": [
    "# function that returns the symbolised movie name (except vowels rest are decoded as *)\n",
    "def game_func():\n",
    "    selected_movie,hints=starter_func()\n",
    "    vowel=list('AEIOU')\n",
    "    \n",
    "    word_list=[]             # list to store the symbolised movie name (using list for ease in manipulation)\n",
    "    \n",
    "    for i in selected_movie:\n",
    "        if i in vowel :      # appending vowels as it is\n",
    "            word_list.append(i)  \n",
    "        elif i not in list('ABCDEFGHIJKLMNOPQRSTUVWXYZ '): # appending Symbols and numerals as it is (Not alphabets)\n",
    "            word_list.append(i) \n",
    "            \n",
    "        elif i==' ':   # Adding / to seperate words in the movie tittle\n",
    "            word_list.append(' / ') \n",
    "        \n",
    "        else : \n",
    "            word_list.append('*')\n",
    "    \n",
    "    word_show=''\n",
    "    for i in word_list : \n",
    "        word_show+=i    # string to show the initial and current state of movie tittle after each guess\n",
    "        \n",
    "    return selected_movie,hints,word_list,word_show \n",
    "    \n",
    "    \n",
    "    "
   ]
  },
  {
   "cell_type": "code",
   "execution_count": 4,
   "metadata": {},
   "outputs": [],
   "source": [
    "def play_game():\n",
    "    \n",
    "    selected_movie,hints,word_list,word_show= game_func()\n",
    "    target='BOLLYWOOD'\n",
    "    print('********************************')\n",
    "    print('* Identify the Bollywood movie *')\n",
    "    print('********************************')\n",
    "    \n",
    "    print('length of word list',len(word_list))\n",
    "    print('length of selected movie',len(selected_movie))\n",
    "    \n",
    "    \n",
    "    print(word_show)\n",
    "    option=1\n",
    "    counter=0\n",
    "    t1=target    # t1 is used to print the chances remaining after each incorrect guess\n",
    "    while option == 1 :\n",
    "                  \n",
    "        choice=input(\"Enter alphabet (Press @ to exit) :\").upper()  # user input \n",
    "        if choice== '@':    # Termination condition\n",
    "            print('The Correct movie is :',selected_movie)\n",
    "            break\n",
    "        \n",
    "        if choice in selected_movie:   # correct guess\n",
    "            res=[n for n in range(len(selected_movie)) if selected_movie.find(choice, n) == n] # creates a list of pos of occurence of choice alphabet\n",
    "            print('Alphabet present at position :',res)\n",
    "            \n",
    "            for x,y in zip(res,choice*len(res)): # manipulating the symbolised movie name after correct guess \n",
    "                word_list[x]=y\n",
    "            word_show=''\n",
    "            for j in word_list :\n",
    "                word_show+=j\n",
    "            print(word_show)\n",
    "            \n",
    "            if \"*\" not in word_show: # Termination condition\n",
    "                print('Great Job!!')\n",
    "                print(\"Completed!! You know your movies :D :)\")\n",
    "                option=2\n",
    "                break\n",
    "            else: \n",
    "                print(t1)\n",
    "                                       \n",
    "        else :              # incorrect guess \n",
    "            counter+=1      # counter to track the no of chances left \n",
    "            word_show=''\n",
    "            for j in word_list :\n",
    "                word_show+=j\n",
    "            print(word_show)\n",
    "            if counter<len(target):     \n",
    "                t1=target[counter:]   # prints the current standing from the string BOLLYWOOD \n",
    "                print(\"Current standing :\")\n",
    "                print(t1)\n",
    "                \n",
    "                if counter <6:  # Max no of hints present in data is 5 \n",
    "                    print(\"Hint for you-\")\n",
    "                    print(hints.index[counter-1],':')\n",
    "                    print(hints[counter-1])\n",
    "                \n",
    "            else:        # Termination condition\n",
    "                print('The Correct movie is :',selected_movie)\n",
    "                print('*************')\n",
    "                print('* Game Over *')\n",
    "                print('*************')\n",
    "                \n",
    "                option=2\n",
    "                \n",
    "                break\n",
    "\n",
    "    "
   ]
  },
  {
   "cell_type": "code",
   "execution_count": null,
   "metadata": {},
   "outputs": [],
   "source": []
  },
  {
   "cell_type": "code",
   "execution_count": 5,
   "metadata": {},
   "outputs": [
    {
     "name": "stdout",
     "output_type": "stream",
     "text": [
      "********************************\n",
      "* Identify the Bollywood movie *\n",
      "********************************\n",
      "length of word list 6\n",
      "length of selected movie 6\n",
      "*A*E*I\n",
      "Enter alphabet (Press @ to exit) :k\n",
      "*A*E*I\n",
      "Current standing :\n",
      "OLLYWOOD\n",
      "Hint for you-\n",
      "releaseYear :\n",
      "2005\n",
      "Enter alphabet (Press @ to exit) :p\n",
      "Alphabet present at position : [0]\n",
      "PA*E*I\n",
      "OLLYWOOD\n",
      "Enter alphabet (Press @ to exit) :h\n",
      "Alphabet present at position : [2]\n",
      "PAHE*I\n",
      "OLLYWOOD\n",
      "Enter alphabet (Press @ to exit) :l\n",
      "Alphabet present at position : [4]\n",
      "PAHELI\n",
      "Great Job!!\n",
      "Completed!! You know your movies :D :)\n"
     ]
    }
   ],
   "source": [
    "play_game()\n"
   ]
  },
  {
   "cell_type": "markdown",
   "metadata": {},
   "source": []
  },
  {
   "cell_type": "code",
   "execution_count": null,
   "metadata": {},
   "outputs": [],
   "source": []
  }
 ],
 "metadata": {
  "kernelspec": {
   "display_name": "Python 3",
   "language": "python",
   "name": "python3"
  },
  "language_info": {
   "codemirror_mode": {
    "name": "ipython",
    "version": 3
   },
   "file_extension": ".py",
   "mimetype": "text/x-python",
   "name": "python",
   "nbconvert_exporter": "python",
   "pygments_lexer": "ipython3",
   "version": "3.7.3"
  }
 },
 "nbformat": 4,
 "nbformat_minor": 2
}
